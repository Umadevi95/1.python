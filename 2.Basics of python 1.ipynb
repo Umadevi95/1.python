{
 "cells": [
  {
   "cell_type": "code",
   "execution_count": 1,
   "metadata": {},
   "outputs": [
    {
     "name": "stdout",
     "output_type": "stream",
     "text": [
      "HOPE AI\n"
     ]
    }
   ],
   "source": [
    "print(\"HOPE AI\")\n"
   ]
  },
  {
   "cell_type": "code",
   "execution_count": 2,
   "metadata": {},
   "outputs": [
    {
     "name": "stdout",
     "output_type": "stream",
     "text": [
      "Enter your Institute Name?:HOPE AI\n"
     ]
    }
   ],
   "source": [
    "InstituteName=input(\"Enter your Institute Name?:\")"
   ]
  },
  {
   "cell_type": "code",
   "execution_count": 3,
   "metadata": {},
   "outputs": [
    {
     "name": "stdout",
     "output_type": "stream",
     "text": [
      "Enter your Name:Raj\n",
      "Enter your age:15\n",
      "Enter your school:Guru School\n",
      "Enter your degree:B.E CSE\n"
     ]
    }
   ],
   "source": [
    "Name=input(\"Enter your Name:\")\n",
    "age=input(\"Enter your age:\")\n",
    "school=input(\"Enter your school:\")\n",
    "degree=input(\"Enter your degree:\")"
   ]
  },
  {
   "cell_type": "code",
   "execution_count": 4,
   "metadata": {},
   "outputs": [
    {
     "name": "stdout",
     "output_type": "stream",
     "text": [
      "a=43\n",
      "b=34\n",
      "add = 77\n"
     ]
    }
   ],
   "source": [
    "num1=int(input(\"a=\"))\n",
    "num2=int(input(\"b=\"))\n",
    "add=num1+num2\n",
    "print(\"add =\",add)"
   ]
  },
  {
   "cell_type": "code",
   "execution_count": 5,
   "metadata": {
    "scrolled": false
   },
   "outputs": [
    {
     "name": "stdout",
     "output_type": "stream",
     "text": [
      "a=43\n",
      "b=34\n",
      "sub= 9\n"
     ]
    }
   ],
   "source": [
    "\n",
    "num1=int(input(\"a=\"))\n",
    "num2=int(input(\"b=\"))\n",
    "sub=num1-num2\n",
    "print(\"sub=\",sub)\n"
   ]
  },
  {
   "cell_type": "code",
   "execution_count": 6,
   "metadata": {
    "scrolled": true
   },
   "outputs": [
    {
     "name": "stdout",
     "output_type": "stream",
     "text": [
      "a=63\n",
      "b=97\n",
      "mul= 6111\n"
     ]
    }
   ],
   "source": [
    "num1=int(input(\"a=\"))\n",
    "num2=int(input(\"b=\"))\n",
    "mul=num1*num2\n",
    "print(\"mul=\",mul)"
   ]
  },
  {
   "cell_type": "code",
   "execution_count": 7,
   "metadata": {},
   "outputs": [
    {
     "name": "stdout",
     "output_type": "stream",
     "text": [
      "a=76\n",
      "b=31\n",
      "div= 2.4516129032258065\n"
     ]
    }
   ],
   "source": [
    "num1=int(input(\"a=\"))\n",
    "num2=int(input(\"b=\"))\n",
    "div=num1/num2\n",
    "print(\"div=\",div)"
   ]
  },
  {
   "cell_type": "code",
   "execution_count": 8,
   "metadata": {},
   "outputs": [
    {
     "name": "stdout",
     "output_type": "stream",
     "text": [
      "a=76\n",
      "b=31\n",
      "div= 2\n"
     ]
    }
   ],
   "source": [
    "num1=int(input(\"a=\"))\n",
    "num2=int(input(\"b=\"))\n",
    "div=num1//num2\n",
    "print(\"div=\",div)"
   ]
  },
  {
   "cell_type": "code",
   "execution_count": 9,
   "metadata": {},
   "outputs": [
    {
     "name": "stdout",
     "output_type": "stream",
     "text": [
      "a=76\n",
      "b=31\n",
      "modulo = 14\n"
     ]
    }
   ],
   "source": [
    "num1=int(input(\"a=\"))\n",
    "num2=int(input(\"b=\"))\n",
    "modulo=num1%num2\n",
    "print(\"modulo =\",modulo)"
   ]
  },
  {
   "cell_type": "code",
   "execution_count": 10,
   "metadata": {},
   "outputs": [
    {
     "name": "stdout",
     "output_type": "stream",
     "text": [
      "a=4\n",
      "b=4\n",
      "power = 256\n"
     ]
    }
   ],
   "source": [
    "num1=int(input(\"a=\"))\n",
    "num2=int(input(\"b=\"))\n",
    "power=num1**num2\n",
    "print(\"power =\",power)"
   ]
  }
 ],
 "metadata": {
  "kernelspec": {
   "display_name": "Python 3",
   "language": "python",
   "name": "python3"
  },
  "language_info": {
   "codemirror_mode": {
    "name": "ipython",
    "version": 3
   },
   "file_extension": ".py",
   "mimetype": "text/x-python",
   "name": "python",
   "nbconvert_exporter": "python",
   "pygments_lexer": "ipython3",
   "version": "3.7.4"
  }
 },
 "nbformat": 4,
 "nbformat_minor": 2
}
