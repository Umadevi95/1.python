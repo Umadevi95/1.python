{
 "cells": [
  {
   "cell_type": "code",
   "execution_count": 1,
   "metadata": {},
   "outputs": [
    {
     "name": "stdout",
     "output_type": "stream",
     "text": [
      "value:10\n",
      "correct\n"
     ]
    }
   ],
   "source": [
    "i=(int(input(\"value:\")))\n",
    "if(i==10):\n",
    "    print(\"correct\")"
   ]
  },
  {
   "cell_type": "code",
   "execution_count": 2,
   "metadata": {},
   "outputs": [
    {
     "name": "stdout",
     "output_type": "stream",
     "text": [
      "Enter password:HOPE@123\n",
      "your password is correct\n"
     ]
    }
   ],
   "source": [
    "correct_password=\"HOPE@123\"\n",
    "input_password=input(\"Enter password:\")\n",
    "if(correct_password == input_password):\n",
    "      print(\"your password is correct\")\n",
    "else:\n",
    "            print(\"your password is wrong\")"
   ]
  },
  {
   "cell_type": "code",
   "execution_count": 4,
   "metadata": {},
   "outputs": [
    {
     "name": "stdout",
     "output_type": "stream",
     "text": [
      "age:20\n",
      "adult\n"
     ]
    }
   ],
   "source": [
    "age=int(input(\"age:\"))\n",
    "if(age<=20):\n",
    "    print(\"adult\")\n",
    "elif(age>25):\n",
    "        print(\"citizen\")\n",
    "else:\n",
    "            print(\"senior citizen\")"
   ]
  },
  {
   "cell_type": "code",
   "execution_count": 14,
   "metadata": {},
   "outputs": [
    {
     "name": "stdout",
     "output_type": "stream",
     "text": [
      "Enter any number:1\n",
      "No is positive\n"
     ]
    }
   ],
   "source": [
    "num=int(input(\"Enter any number:\"))\n",
    "if(num>0):\n",
    "    print(\"No is positive\")\n",
    "elif(num<0):\n",
    "    print(\"No is negative\")\n",
    "else:\n",
    "    print(\"No is zero\")"
   ]
  },
  {
   "cell_type": "code",
   "execution_count": 13,
   "metadata": {},
   "outputs": [
    {
     "name": "stdout",
     "output_type": "stream",
     "text": [
      "Enter a number to check:22\n",
      "No is not divisible by 5\n"
     ]
    }
   ],
   "source": [
    "number = int(input(\"Enter a number to check:\"))\n",
    "if (number%5==0):\n",
    "    print(\"No is divisble by 5\")\n",
    "else:\n",
    "    print(\"No is not divisible by 5\")"
   ]
  }
 ],
 "metadata": {
  "kernelspec": {
   "display_name": "Python 3",
   "language": "python",
   "name": "python3"
  },
  "language_info": {
   "codemirror_mode": {
    "name": "ipython",
    "version": 3
   },
   "file_extension": ".py",
   "mimetype": "text/x-python",
   "name": "python",
   "nbconvert_exporter": "python",
   "pygments_lexer": "ipython3",
   "version": "3.7.4"
  }
 },
 "nbformat": 4,
 "nbformat_minor": 2
}
