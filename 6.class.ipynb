{
 "cells": [
  {
   "cell_type": "code",
   "execution_count": 4,
   "metadata": {},
   "outputs": [],
   "source": [
    "list=['subfields in AI are:','Machine Learning','Neural Networks','vision','robotics','speech processing','natural language processing']"
   ]
  },
  {
   "cell_type": "code",
   "execution_count": 39,
   "metadata": {},
   "outputs": [],
   "source": [
    "class subfieldsInAI():\n",
    "    def subfields():  \n",
    "        list=['subfields in AI are:','Machine Learning','Neural Networks','vision','robotics','speech processing','natural language processing']\n",
    "        for i in list:\n",
    "             print(i)\n",
    "        return list\n",
    "   "
   ]
  },
  {
   "cell_type": "code",
   "execution_count": 40,
   "metadata": {
    "scrolled": true
   },
   "outputs": [
    {
     "name": "stdout",
     "output_type": "stream",
     "text": [
      "subfields in AI are:\n",
      "Machine Learning\n",
      "Neural Networks\n",
      "vision\n",
      "robotics\n",
      "speech processing\n",
      "natural language processing\n"
     ]
    }
   ],
   "source": [
    "list1=subfieldsInAI.subfields()"
   ]
  },
  {
   "cell_type": "code",
   "execution_count": 15,
   "metadata": {},
   "outputs": [
    {
     "name": "stdout",
     "output_type": "stream",
     "text": [
      "Enter a number:45523\n"
     ]
    }
   ],
   "source": [
    "number=int(input(\"Enter a number:\"))"
   ]
  },
  {
   "cell_type": "code",
   "execution_count": 17,
   "metadata": {},
   "outputs": [],
   "source": [
    "class OddEven():\n",
    "    def OddEven():\n",
    "        number=int(input(\"Enter a number:\"))\n",
    "        if number%2 !=0:\n",
    "                print(number,\"is odd number\")\n",
    "                message=\"odd number\"\n",
    "        else:\n",
    "                print(number,\"is even number\")\n",
    "                message=\"even number\"\n",
    "                return message"
   ]
  },
  {
   "cell_type": "code",
   "execution_count": 41,
   "metadata": {},
   "outputs": [
    {
     "name": "stdout",
     "output_type": "stream",
     "text": [
      "Enter a number:52452\n",
      "52452 is even number\n"
     ]
    }
   ],
   "source": [
    "num=OddEven.OddEven()"
   ]
  },
  {
   "cell_type": "code",
   "execution_count": 20,
   "metadata": {},
   "outputs": [
    {
     "name": "stdout",
     "output_type": "stream",
     "text": [
      "your gender:male\n"
     ]
    }
   ],
   "source": [
    "gender=(input(\"your gender:\"))"
   ]
  },
  {
   "cell_type": "code",
   "execution_count": 21,
   "metadata": {},
   "outputs": [
    {
     "name": "stdout",
     "output_type": "stream",
     "text": [
      "your age:20\n"
     ]
    }
   ],
   "source": [
    "age=input(\"your age:\")"
   ]
  },
  {
   "cell_type": "code",
   "execution_count": 23,
   "metadata": {},
   "outputs": [],
   "source": [
    "class ElegiblityForMarriage():\n",
    "    def elegible():\n",
    "        gender=input(\"your gender:\")\n",
    "        male=\"male\"\n",
    "        female=\"female\"\n",
    "        age=int(input(\"your age:\"))\n",
    "        if ((gender==male and age>21) or (gender==female and age>18)):\n",
    "            print(\"ELIGLIBLE\")\n",
    "            message=\"ELIGIBLE\"\n",
    "        else:\n",
    "            print(\"NOT ELIGIBLE\")\n",
    "            message=\"ELIGIBLE\"\n",
    "        return message\n"
   ]
  },
  {
   "cell_type": "code",
   "execution_count": 24,
   "metadata": {},
   "outputs": [
    {
     "name": "stdout",
     "output_type": "stream",
     "text": [
      "your gender:male\n",
      "your age:20\n",
      "NOT ELIGIBLE\n"
     ]
    }
   ],
   "source": [
    "ans= ElegiblityForMarriage.elegible()"
   ]
  },
  {
   "cell_type": "code",
   "execution_count": 28,
   "metadata": {},
   "outputs": [],
   "source": [
    "class FindPercentage():\n",
    "    def percentage():\n",
    "        sub1=int(input(\"subject1=\"))\n",
    "        sub2=int(input(\"subject2=\"))\n",
    "        sub3=int(input(\"subject3=\"))\n",
    "        sub4=int(input(\"subject4=\"))\n",
    "        sub5=int(input(\"subject5=\"))\n",
    "        total=sub1+sub2+sub3+sub4+sub5\n",
    "        print(\"total=\",total)\n",
    "        percentage=total/5\n",
    "        print(\"percentage=\",percentage)\n",
    "    return percentage"
   ]
  },
  {
   "cell_type": "code",
   "execution_count": 42,
   "metadata": {},
   "outputs": [
    {
     "name": "stdout",
     "output_type": "stream",
     "text": [
      "subject1=98\n",
      "subject2=87\n",
      "subject3=95\n",
      "subject4=95\n",
      "subject5=93\n",
      "total= 468\n",
      "percentage= 93.6\n"
     ]
    }
   ],
   "source": [
    "per=FindPercentage.percentage()"
   ]
  },
  {
   "cell_type": "code",
   "execution_count": 30,
   "metadata": {},
   "outputs": [],
   "source": [
    "class triangle():\n",
    "    def triangle():\n",
    "        height=int(input(\"height:\"))\n",
    "        breadth=int(input(\"breadth:\"))\n",
    "        area =(height*breadth)/2\n",
    "        print(\"area formula=(height*breadth)/2\")\n",
    "        print(\"area of triangle:\",area)\n",
    "        return area\n",
    "        height1=int(input(\"height1:\"))\n",
    "        height2=int(input(\"height2:\"))\n",
    "        breadth=int(input(\"breadth:\"))\n",
    "        perimeter =(height1+height2+breadth)\n",
    "        print(\"perimeter formula=height1+height2+breadth\")\n",
    "        print(\"perimeter of triangle:\",perimeter)\n",
    "        return perimeter"
   ]
  },
  {
   "cell_type": "code",
   "execution_count": 45,
   "metadata": {},
   "outputs": [
    {
     "name": "stdout",
     "output_type": "stream",
     "text": [
      "height:32\n",
      "breadth:34\n",
      "area formula=(height*breadth)/2\n",
      "area of triangle: 544.0\n",
      "height1:2\n",
      "height2:4\n",
      "breadth:4\n",
      "perimeter formula=height1+height2+breadth\n",
      "perimeter of triangle: 10\n"
     ]
    }
   ],
   "source": [
    "trir=triangle.triangle()"
   ]
  }
 ],
 "metadata": {
  "kernelspec": {
   "display_name": "Python 3",
   "language": "python",
   "name": "python3"
  },
  "language_info": {
   "codemirror_mode": {
    "name": "ipython",
    "version": 3
   },
   "file_extension": ".py",
   "mimetype": "text/x-python",
   "name": "python",
   "nbconvert_exporter": "python",
   "pygments_lexer": "ipython3",
   "version": "3.7.4"
  }
 },
 "nbformat": 4,
 "nbformat_minor": 2
}
